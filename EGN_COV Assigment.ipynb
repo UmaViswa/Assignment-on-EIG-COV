{
 "cells": [
  {
   "cell_type": "markdown",
   "metadata": {},
   "source": [
    "__MATRIX EIGENVALUE PROBLEM__"
   ]
  },
  {
   "cell_type": "markdown",
   "metadata": {},
   "source": [
    "Let A be an n*n matrix A scalar $\\lambda$ is called an eigenvalue.<br>\n",
    "\n",
    "\n",
    "1. Multiply an n*n identity matrix by scalar $\\lambda$\n",
    "2. Subtract the identity matrix multiple from the matrix A\n",
    "3. Find the determinat of the matrix and the diffrence.\n",
    "4. Solve for the values of $\\lambda$ that satisfies the equation def(A-$\\lambda$I)=$\\bar{0}$\n",
    "5. Solve for the corresponding vector to each $\\lambda$"
   ]
  },
  {
   "cell_type": "markdown",
   "metadata": {},
   "source": [
    "  \\begin{equation*} A = \\begin{bmatrix} 2 & 3 \\\\ 2 & 1 \\end{bmatrix} \\end{equation*}"
   ]
  },
  {
   "cell_type": "markdown",
   "metadata": {},
   "source": [
    "\n",
    "$$A - \\lambda I ={\\begin{bmatrix} 2 & 3 \\\\ 2 & 1 \\end{bmatrix}} - {\\begin{bmatrix} \\lambda & 0 \\\\ 0 & \\lambda \\end{bmatrix}} $$"
   ]
  },
  {
   "cell_type": "markdown",
   "metadata": {},
   "source": [
    "\\begin{equation*} Det\\begin{pmatrix}2-\\lambda&3\\\\2&1-\\lambda\\end{pmatrix}=0. \\end{equation*}\n",
    "\n",
    "Calculating the determinant gives:\n",
    "\n",
    "(6)   \\begin{align*} &(2-\\lambda)(1-\\lambda) - 6 = 0\\\\ \\Rightarrow &2 - 2 \\lambda - \\lambda - \\lambda^2 -6 = 0\\\\ \\Rightarrow &{\\lambda}^2 - 3 \\lambda -4 = 0. \\end{align*}\n",
    "\n",
    "To solve this quadratic equation in \\lambda, we find the discriminant:\n",
    "\n",
    " \\begin{equation*} D = b^2 -4ac = (-3)^2 -4*1*(-4) = 9+16 = 25. \\end{equation*}\n",
    "\n",
    "Since the discriminant is strictly positive, this means that two different values for \\lambda exist:\n",
    "\n",
    "(7)   \\begin{align*} \\lambda _1 &= \\frac{-b - \\sqrt{D}}{2a} = \\frac{3-5}{2} = -1,\\\\ \\lambda _2 &= \\frac{-b + \\sqrt{D}}{2a} = \\frac{3+5}{2} = 4. \\end{align*}\n",
    "\n",
    "We have now determined the two eigenvalues \\lambda_1 and \\lambda_2. Note that a square matrix of size N \\times N always has exactly N eigenvalues, each with a corresponding eigenvector. The eigenvalue specifies the size of the eigenvector."
   ]
  },
  {
   "cell_type": "markdown",
   "metadata": {},
   "source": [
    "__Finding Eigen Vectors by replacing Eigen Values in the above equation__\n",
    "\n",
    "Equation is \\begin{equation*} A \\vec{v} = \\lambda \\vec{v} \\end{equation*}\n",
    "\n",
    "we get directly λ1=1 and λ2=3. \n",
    "\n",
    "The above expression is usually referred as the characteristic polinomial or characteristic equation of a matrix. \n",
    "Plugging λ1 into (1), we get:\n",
    "[1103][v11v12]=1[v11v12]\n",
    "\n",
    "we get directly λ1 = -1 and λ2 = 4. The above expression is usually referred as the characteristic polinomial or characteristic equation of a matrix. \n",
    "Replacing λ1 into eqaution, we get:\n",
    "$$    \n",
    "\\begin{equation}\n",
    "  \\begin{bmatrix}\n",
    "    2 & 3 \\\\ 2 & 1 \n",
    "   \\end{bmatrix} \n",
    "   %\n",
    "  \\begin{bmatrix}\n",
    "     v11 \\\\ \n",
    "     v12 \\\\\n",
    "  \\end{bmatrix}\n",
    "\\end{equation} = $ -1  \\cdot \\begin{bmatrix} v11 \\\\ v12 \\\\ \\end{bmatrix}$\n",
    "$$\n",
    "\n",
    "\n",
    "from which we get v11=−2v12. That is, any vector v1=[v11,v12] where v11=−2v12 is an eigenvector of A with eigenvalue 1. \n",
    "Replacing λ2 into equation, we get:\n",
    "    \n",
    "$$\n",
    "\\begin{equation}\n",
    "  \\begin{bmatrix}\n",
    "    2 & 3 \\\\ 2 & 1 \n",
    "   \\end{bmatrix} \n",
    "   %\n",
    "  \\begin{bmatrix}\n",
    "     v21 \\\\ \n",
    "     v22 \\\\\n",
    "  \\end{bmatrix}\n",
    "\\end{equation} = $ 4  \\cdot \\begin{bmatrix} v11 \\\\ v12 \\\\ \\end{bmatrix}$\n",
    "$$ \n",
    "\n",
    "\n",
    "from which we get v21=0 and v22∈R. That is, any vector v2=[v21,v22] where v21=0 is an eigenvector of A with eigenvalue 3.\n",
    "\n",
    "\n",
    "$$A\\left[\\mathbf{v_1 v_2}\\right] = \\left[\\begin{array}{cc}2 & 3\\\\2 & 1\\\\\\end{array}\\right]\\left[\\begin{array}{cc}v_{11} & v_{21}\\\\v_{12} & v_{22}\\\\\\end{array}\\right] =\\left[\\begin{array}{cc}v_{11} & v_{21}\\\\v_{12} & v_{22}\\\\\\end{array}\\right]\\left[\\begin{array}{cc}\\lambda_1 & 0\\\\0 & \\lambda_2\\\\\\end{array}\\right] =\\left[\\mathbf{v_1 v_2}\\right]\\left[\\begin{array}{cc}\\lambda_1 & 0\\\\0 & \\lambda_2\\\\\\end{array}\\right]$$\n",
    "\n",
    "If we replace \n",
    "\n",
    "Diagonal Matrix :\n",
    "\n",
    "$$\\Lambda = \\left[\\begin{array}{cc}\\lambda_1 & 0\\\\0 & \\lambda_2\\\\\\end{array}\\right]$$\n",
    "\n",
    "Vector Matrix:\n",
    "\n",
    "$$V = \\left[\\mathbf{v_1 v_2}\\right]$$\n",
    "\n",
    "Eigen Decomposition is one connection between a linear transformation and the covariance matrix. An eigenvector is a vector whose direction remains unchanged when a linear transformation is applied to it. It can be expressed as\n",
    "\n",
    "$$ AV = V\\Lambda $$\n",
    "\n",
    "where v is an eigenvector of A and λ is the corresponding eigenvalue. If we put all eigenvectors into the columns of a Matrix V and all eigenvalues as the entries of a diagonal matrix L we can write for our covariance matrix C\n",
    "\n",
    "the following equation\n",
    "\n",
    "$$CV=VL$$\n",
    "\n",
    "where the covariance matrix can be represented as\n",
    "\n",
    "$$ \\begin{equation}A = V\\Lambda V^{-1}\\label{eq:AVLV}\\end{equation}$$\n",
    "\n",
    "If we replace A matrix with Co variance matrix:\n",
    "\n",
    "\\begin{equation*} \\Sigma = \\begin{bmatrix} \\sigma(x,x) & \\sigma(x,y) \\\\[0.3em] \\sigma(y,x) & \\sigma(y,y) \\\\[0.3em] \\end{bmatrix} \\end{equation*}\n",
    "\n",
    "\\begin{equation*}  \\Sigma \\vec{v} = \\lambda \\vec{v} \\end{equation*}\n",
    "where vec v is an eigenvector of $\\Sigma \\vec{v}$ , and λ is the corresponding eigenvalue\n",
    "\n",
    "For each eigenvector-eigenvalue pair of matrix \\Sigma. In the 2D case, we obtain two eigenvectors and two eigenvalues. The system of two equations defined by equation  can be represented efficiently using matrix notation:\n",
    "\n",
    "   \\begin{equation*}  \\Sigma \\, V = V \\, D \\end{equation*}\n",
    "\n",
    "where V is the matrix whose columns are the eigenvectors of \\Sigma and D is the diagonal matrix whose non-zero elements are the corresponding eigenvalues.\n",
    "\n",
    "This means that we can represent the covariance matrix as a function of its eigenvectors and eigenvalues:\n",
    "\n",
    "   \\begin{equation*}  \\Sigma = V \\, D \\, V^{-1} \\end{equation*}\n",
    "   \n",
    "\n"
   ]
  },
  {
   "cell_type": "markdown",
   "metadata": {},
   "source": []
  }
 ],
 "metadata": {
  "kernelspec": {
   "display_name": "Python 3",
   "language": "python",
   "name": "python3"
  },
  "language_info": {
   "codemirror_mode": {
    "name": "ipython",
    "version": 3
   },
   "file_extension": ".py",
   "mimetype": "text/x-python",
   "name": "python",
   "nbconvert_exporter": "python",
   "pygments_lexer": "ipython3",
   "version": "3.7.3"
  }
 },
 "nbformat": 4,
 "nbformat_minor": 2
}
