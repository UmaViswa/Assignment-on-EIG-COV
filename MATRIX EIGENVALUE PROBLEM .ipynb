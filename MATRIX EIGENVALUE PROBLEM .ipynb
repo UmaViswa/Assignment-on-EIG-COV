{
 "cells": [
  {
   "cell_type": "markdown",
   "metadata": {},
   "source": [
    "__MATRIX EIGENVALUE PROBLEM__"
   ]
  },
  {
   "cell_type": "markdown",
   "metadata": {},
   "source": [
    "Let A be an n*n matrix A scalar $\\lambda$ is called an eigenvalue.<br>\n",
    "\n",
    "\n",
    "1. Multiply an n*n identity matrix by scalar $\\lambda$\n",
    "2. Subtract the identity matrix multiple from the matrix A\n",
    "3. Find the determinat of the matrix and the diffrence.\n",
    "4. Solve for the values of $\\lambda$ that satisfies the equation def(A-$\\lambda$I)=$\\bar{0}$\n",
    "5. Solve for the corresponding vector to each $\\lambda$"
   ]
  },
  {
   "cell_type": "markdown",
   "metadata": {},
   "source": [
    "  \\begin{equation*} A = \\begin{bmatrix} 2 & 3 \\\\ 2 & 1 \\end{bmatrix} \\end{equation*}"
   ]
  },
  {
   "cell_type": "markdown",
   "metadata": {},
   "source": [
    "\n",
    "$$A - \\lambda I ={\\begin{bmatrix} 2 & 3 \\\\ 2 & 1 \\end{bmatrix}} - {\\begin{bmatrix} \\lambda & 0 \\\\ 0 & \\lambda \\end{bmatrix}} $$"
   ]
  },
  {
   "cell_type": "markdown",
   "metadata": {},
   "source": [
    "\\begin{equation*} Det\\begin{pmatrix}2-\\lambda&3\\\\2&1-\\lambda\\end{pmatrix}=0. \\end{equation*}\n",
    "\n",
    "Calculating the determinant gives:\n",
    "\n",
    "(6)   \\begin{align*} &(2-\\lambda)(1-\\lambda) - 6 = 0\\\\ \\Rightarrow &2 - 2 \\lambda - \\lambda - \\lambda^2 -6 = 0\\\\ \\Rightarrow &{\\lambda}^2 - 3 \\lambda -4 = 0. \\end{align*}\n",
    "\n",
    "To solve this quadratic equation in \\lambda, we find the discriminant:\n",
    "\n",
    " \\begin{equation*} D = b^2 -4ac = (-3)^2 -4*1*(-4) = 9+16 = 25. \\end{equation*}\n",
    "\n",
    "Since the discriminant is strictly positive, this means that two different values for \\lambda exist:\n",
    "\n",
    "(7)   \\begin{align*} \\lambda _1 &= \\frac{-b - \\sqrt{D}}{2a} = \\frac{3-5}{2} = -1,\\\\ \\lambda _2 &= \\frac{-b + \\sqrt{D}}{2a} = \\frac{3+5}{2} = 4. \\end{align*}\n",
    "\n",
    "We have now determined the two eigenvalues \\lambda_1 and \\lambda_2. Note that a square matrix of size N \\times N always has exactly N eigenvalues, each with a corresponding eigenvector. The eigenvalue specifies the size of the eigenvector."
   ]
  },
  {
   "cell_type": "code",
   "execution_count": null,
   "metadata": {},
   "outputs": [],
   "source": []
  }
 ],
 "metadata": {
  "kernelspec": {
   "display_name": "Python 3",
   "language": "python",
   "name": "python3"
  },
  "language_info": {
   "codemirror_mode": {
    "name": "ipython",
    "version": 3
   },
   "file_extension": ".py",
   "mimetype": "text/x-python",
   "name": "python",
   "nbconvert_exporter": "python",
   "pygments_lexer": "ipython3",
   "version": "3.7.3"
  }
 },
 "nbformat": 4,
 "nbformat_minor": 2
}
